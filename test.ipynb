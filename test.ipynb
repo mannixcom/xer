{
 "cells": [
  {
   "cell_type": "code",
   "execution_count": 33,
   "metadata": {},
   "outputs": [
    {
     "ename": "KeyboardInterrupt",
     "evalue": "",
     "output_type": "error",
     "traceback": [
      "\u001b[0;31m---------------------------------------------------------------------------\u001b[0m",
      "\u001b[0;31mKeyboardInterrupt\u001b[0m                         Traceback (most recent call last)",
      "Cell \u001b[0;32mIn[33], line 11\u001b[0m\n\u001b[1;32m      8\u001b[0m projectWBS \u001b[39m=\u001b[39m []\n\u001b[1;32m     10\u001b[0m \u001b[39mfor\u001b[39;00m WBS \u001b[39min\u001b[39;00m xer\u001b[39m.\u001b[39mwbss:\n\u001b[0;32m---> 11\u001b[0m     projectWBS\u001b[39m.\u001b[39mappend(WBS\u001b[39m.\u001b[39;49mget_json())\n\u001b[1;32m     13\u001b[0m \u001b[39m# milestones = []\u001b[39;00m\n\u001b[1;32m     14\u001b[0m \u001b[39m# for activity in xer.activities:\u001b[39;00m\n\u001b[1;32m     15\u001b[0m \u001b[39m#     # print(dir(activity))\u001b[39;00m\n\u001b[0;32m   (...)\u001b[0m\n\u001b[1;32m     28\u001b[0m \u001b[39m#         })\u001b[39;00m\n\u001b[1;32m     29\u001b[0m \u001b[39m# print(milestones)\u001b[39;00m\n",
      "File \u001b[0;32m~/.venvs/mannix/lib/python3.9/site-packages/xerparser/model/classes/wbs.py:70\u001b[0m, in \u001b[0;36mWBS.get_json\u001b[0;34m(cls)\u001b[0m\n\u001b[1;32m     68\u001b[0m \u001b[39m@classmethod\u001b[39m\n\u001b[1;32m     69\u001b[0m \u001b[39mdef\u001b[39;00m \u001b[39mget_json\u001b[39m(\u001b[39mcls\u001b[39m):\n\u001b[0;32m---> 70\u001b[0m     root_nodes \u001b[39m=\u001b[39m \u001b[39mlist\u001b[39;49m(\u001b[39mfilter\u001b[39;49m(\u001b[39mlambda\u001b[39;49;00m x: WBS\u001b[39m.\u001b[39;49mfind_by_id(x\u001b[39m.\u001b[39;49mparent_wbs_id) \u001b[39mis\u001b[39;49;00m \u001b[39mNone\u001b[39;49;00m, \u001b[39mcls\u001b[39;49m\u001b[39m.\u001b[39;49mobj_list))\n\u001b[1;32m     71\u001b[0m     \u001b[39mprint\u001b[39m(root_nodes)\n\u001b[1;32m     72\u001b[0m     json \u001b[39m=\u001b[39m \u001b[39mdict\u001b[39m()\n",
      "File \u001b[0;32m~/.venvs/mannix/lib/python3.9/site-packages/xerparser/model/classes/wbs.py:70\u001b[0m, in \u001b[0;36mWBS.get_json.<locals>.<lambda>\u001b[0;34m(x)\u001b[0m\n\u001b[1;32m     68\u001b[0m \u001b[39m@classmethod\u001b[39m\n\u001b[1;32m     69\u001b[0m \u001b[39mdef\u001b[39;00m \u001b[39mget_json\u001b[39m(\u001b[39mcls\u001b[39m):\n\u001b[0;32m---> 70\u001b[0m     root_nodes \u001b[39m=\u001b[39m \u001b[39mlist\u001b[39m(\u001b[39mfilter\u001b[39m(\u001b[39mlambda\u001b[39;00m x: WBS\u001b[39m.\u001b[39;49mfind_by_id(x\u001b[39m.\u001b[39;49mparent_wbs_id) \u001b[39mis\u001b[39;00m \u001b[39mNone\u001b[39;00m, \u001b[39mcls\u001b[39m\u001b[39m.\u001b[39mobj_list))\n\u001b[1;32m     71\u001b[0m     \u001b[39mprint\u001b[39m(root_nodes)\n\u001b[1;32m     72\u001b[0m     json \u001b[39m=\u001b[39m \u001b[39mdict\u001b[39m()\n",
      "File \u001b[0;32m~/.venvs/mannix/lib/python3.9/site-packages/xerparser/model/classes/wbs.py:94\u001b[0m, in \u001b[0;36mWBS.find_by_id\u001b[0;34m(cls, ID)\u001b[0m\n\u001b[1;32m     92\u001b[0m \u001b[39m@classmethod\u001b[39m\n\u001b[1;32m     93\u001b[0m \u001b[39mdef\u001b[39;00m \u001b[39mfind_by_id\u001b[39m(\u001b[39mcls\u001b[39m, ID):\n\u001b[0;32m---> 94\u001b[0m     obj \u001b[39m=\u001b[39m \u001b[39mlist\u001b[39;49m(\u001b[39mfilter\u001b[39;49m(\u001b[39mlambda\u001b[39;49;00m x: x\u001b[39m.\u001b[39;49mwbs_id \u001b[39m==\u001b[39;49m ID, \u001b[39mcls\u001b[39;49m\u001b[39m.\u001b[39;49mobj_list))\n\u001b[1;32m     95\u001b[0m     \u001b[39mif\u001b[39;00m obj:\n\u001b[1;32m     96\u001b[0m         \u001b[39mreturn\u001b[39;00m obj[\u001b[39m0\u001b[39m]\n",
      "File \u001b[0;32m~/.venvs/mannix/lib/python3.9/site-packages/xerparser/model/classes/wbs.py:94\u001b[0m, in \u001b[0;36mWBS.find_by_id.<locals>.<lambda>\u001b[0;34m(x)\u001b[0m\n\u001b[1;32m     92\u001b[0m \u001b[39m@classmethod\u001b[39m\n\u001b[1;32m     93\u001b[0m \u001b[39mdef\u001b[39;00m \u001b[39mfind_by_id\u001b[39m(\u001b[39mcls\u001b[39m, ID):\n\u001b[0;32m---> 94\u001b[0m     obj \u001b[39m=\u001b[39m \u001b[39mlist\u001b[39m(\u001b[39mfilter\u001b[39m(\u001b[39mlambda\u001b[39;00m x: x\u001b[39m.\u001b[39mwbs_id \u001b[39m==\u001b[39m ID, \u001b[39mcls\u001b[39m\u001b[39m.\u001b[39mobj_list))\n\u001b[1;32m     95\u001b[0m     \u001b[39mif\u001b[39;00m obj:\n\u001b[1;32m     96\u001b[0m         \u001b[39mreturn\u001b[39;00m obj[\u001b[39m0\u001b[39m]\n",
      "\u001b[0;31mKeyboardInterrupt\u001b[0m: "
     ]
    }
   ],
   "source": [
    "import pandas as pd\n",
    "from xerparser.reader import Reader\n",
    "\n",
    "file = r\"xer/plant.xer\"\n",
    "\n",
    "xer = Reader(file)\n",
    "\n",
    "projectWBS = []\n",
    "\n",
    "for WBS in xer.wbss:\n",
    "    projectWBS.append(WBS.get_json())\n",
    "\n",
    "print(projectWBS)\n",
    "\n",
    "# milestones = []\n",
    "# for activity in xer.activities:\n",
    "#     # print(dir(activity))\n",
    "#     if activity.task_type == 'TT_FinMile':\n",
    "#         milestoneName = activity.task_name\n",
    "#         milestoneId = activity.task_id\n",
    "#         wbsId = activity.wbs_id\n",
    "#         activityCodes = activity.activitycodes\n",
    "\n",
    "#         wbsHierarchy = []\n",
    "        \n",
    "#         milestones.append({\n",
    "#             'Milestone': milestoneName,\n",
    "#             'Milestone ID': milestoneId,\n",
    "#             'WBS': wbsId,\n",
    "#         })\n",
    "# print(milestones)"
   ]
  }
 ],
 "metadata": {
  "kernelspec": {
   "display_name": "mannix",
   "language": "python",
   "name": "mannix"
  },
  "language_info": {
   "codemirror_mode": {
    "name": "ipython",
    "version": 3
   },
   "file_extension": ".py",
   "mimetype": "text/x-python",
   "name": "python",
   "nbconvert_exporter": "python",
   "pygments_lexer": "ipython3",
   "version": "3.9.17"
  },
  "orig_nbformat": 4
 },
 "nbformat": 4,
 "nbformat_minor": 2
}
